{
 "cells": [
  {
   "cell_type": "code",
   "execution_count": 10,
   "metadata": {
    "collapsed": true
   },
   "outputs": [],
   "source": [
    "from Crawler.LogIn import *\n",
    "\n",
    "import pandas as pd\n",
    "import numpy as np\n",
    "\n",
    "\n",
    "from datetime import datetime\n",
    "from datetime import date\n",
    "from datetime import timedelta\n",
    "\n",
    "from selenium import webdriver\n",
    "from selenium.webdriver import ChromeOptions\n",
    "from selenium.webdriver.common.keys import Keys"
   ]
  },
  {
   "cell_type": "code",
   "execution_count": 12,
   "metadata": {
    "scrolled": true
   },
   "outputs": [
    {
     "name": "stderr",
     "output_type": "stream",
     "text": [
      "[WDM] - Current google-chrome version is 85.0.4183\n",
      "[WDM] - Get LATEST driver version for 85.0.4183\n",
      "[WDM] - Driver [C:\\Users\\Timothy.lo\\.wdm\\drivers\\chromedriver\\win32\\85.0.4183.87\\chromedriver.exe] found in cache\n"
     ]
    },
    {
     "name": "stdout",
     "output_type": "stream",
     "text": [
      ">> 'incognito' not found in keyword arguments\n",
      ">> Default: Private mode is set in Chrome agent\n",
      ">> 'disable_extensions' not found in keyword arguments\n",
      ">> Default: Chrome agent is disabled its extensions\n",
      ">> user_agent is added to chrome_options \n",
      ">> incognito is added to chrome_options \n",
      ">> disable_extensions is added to chrome_options \n",
      " \n",
      ">> browser response: Get https://www.hkexnews.hk/sdw/search/searchsdw_c.aspx\n"
     ]
    }
   ],
   "source": [
    "# Define user agent\n",
    "user_agent = \"user-agent=Mozilla/5.0 (Windows NT 6.1; Win64; x64) AppleWebKit/537.36 (KHTML, like Gecko) Chrome/75.0.3770.142 Safari/537.36\"\n",
    "\n",
    "# Define chromedriver path\n",
    "executable_path = '/chromedriver'\n",
    "\n",
    "browser, chrome_options = createBrowser(executable_path, user_agent = user_agent)\n",
    "\n",
    "url = 'https://www.hkexnews.hk/sdw/search/searchsdw_c.aspx'\n",
    "\n",
    "# Browse url\n",
    "browser = getURL(browser, url)"
   ]
  },
  {
   "cell_type": "code",
   "execution_count": null,
   "metadata": {
    "collapsed": true
   },
   "outputs": [],
   "source": []
  },
  {
   "cell_type": "code",
   "execution_count": 37,
   "metadata": {
    "collapsed": true
   },
   "outputs": [],
   "source": [
    "def calendar_click(to_search, class_name):\n",
    "    \n",
    "    try:\n",
    "        calendar_element = browser.find_element_by_class_name(class_name)\n",
    "        \n",
    "        for calendar in calendar_element.find_elements_by_tag_name('li'):\n",
    "            if calendar.text.strip() == to_search:\n",
    "                \n",
    "                calendar.click()\n",
    "        \n",
    "    except Exception as e:\n",
    "        print(e)"
   ]
  },
  {
   "cell_type": "code",
   "execution_count": 36,
   "metadata": {
    "collapsed": true
   },
   "outputs": [],
   "source": [
    "# Retrieve a list of HK stock\n",
    "# Define the year, month and day to search\n",
    "# date_to_search = date.today() - timedelta(1)\n",
    "date_to_search = date(2019, 12, 11)\n",
    "year_to_search = str(date_to_search.year)\n",
    "month_to_search = str(date_to_search.month)\n",
    "day_to_search = str(date_to_search.day)\n",
    "\n",
    "def enter_search_kw(date_to_search, stock_code):\n",
    "\n",
    "    # Select the correct year, month and day\n",
    "    calendar_click(year_to_search, 'year')\n",
    "    calendar_click(month_to_search, 'month')\n",
    "    calendar_click(day_to_search, 'day')\n",
    "\n",
    "    time.sleep(1)\n",
    "\n",
    "    # Set Stock Code\n",
    "    browser.find_element_by_name('txtStockCode').send_keys(stock_code)\n",
    "\n",
    "    # Click Search\n",
    "    browser.find_element_by_id('btnSearch').click()\n",
    "\n",
    "    # Break time\n",
    "    time.sleep(1)\n"
   ]
  },
  {
   "cell_type": "code",
   "execution_count": 64,
   "metadata": {
    "collapsed": true
   },
   "outputs": [],
   "source": [
    "# Scrape 市場中介者/願意披露的投資者戶口持有人的紀錄 on the page\n",
    "def Scraper(browser, stock_code, date_to_search):\n",
    "\n",
    "    # Get search result table\n",
    "    search_table = browser.find_element_by_class_name('search-details-table-container').find_element_by_tag_name('table')\n",
    "    \n",
    "    # Get column_name\n",
    "    column_name = [col.text for col in search_table.find_elements_by_tag_name('th')]\n",
    "    \n",
    "    # Get Search body\n",
    "    search_body = search_table.find_element_by_tag_name('tbody')\n",
    "    \n",
    "    # Get Search result data\n",
    "    data = np.array([[cell.text for cell in row.find_elements_by_class_name('mobile-list-body')] for row in search_body.find_elements_by_tag_name('tr')])\n",
    "\n",
    "    # Convert data to DataFrame with column\n",
    "    df = pd.DataFrame(data, columns = column_name)\n",
    "    \n",
    "    # Add search stock data and date_to_search\n",
    "    df['stock_code'] = stock_code\n",
    "    df['report_date'] = date_to_search\n",
    "    \n",
    "    return df\n",
    "    "
   ]
  },
  {
   "cell_type": "code",
   "execution_count": 47,
   "metadata": {
    "collapsed": true
   },
   "outputs": [],
   "source": []
  },
  {
   "cell_type": "code",
   "execution_count": null,
   "metadata": {
    "collapsed": true
   },
   "outputs": [],
   "source": []
  },
  {
   "cell_type": "code",
   "execution_count": 61,
   "metadata": {
    "collapsed": true
   },
   "outputs": [],
   "source": []
  },
  {
   "cell_type": "code",
   "execution_count": 63,
   "metadata": {},
   "outputs": [
    {
     "data": {
      "text/html": [
       "<div>\n",
       "<style scoped>\n",
       "    .dataframe tbody tr th:only-of-type {\n",
       "        vertical-align: middle;\n",
       "    }\n",
       "\n",
       "    .dataframe tbody tr th {\n",
       "        vertical-align: top;\n",
       "    }\n",
       "\n",
       "    .dataframe thead th {\n",
       "        text-align: right;\n",
       "    }\n",
       "</style>\n",
       "<table border=\"1\" class=\"dataframe\">\n",
       "  <thead>\n",
       "    <tr style=\"text-align: right;\">\n",
       "      <th></th>\n",
       "      <th>參與者編號</th>\n",
       "      <th>中央結算系統參與者名稱\\n(*即願意披露的投資者戶口持有人)</th>\n",
       "      <th>地址</th>\n",
       "      <th>持股量</th>\n",
       "      <th>佔已發行股份/權證/單位百分比</th>\n",
       "    </tr>\n",
       "  </thead>\n",
       "  <tbody>\n",
       "    <tr>\n",
       "      <th>0</th>\n",
       "      <td>C00019</td>\n",
       "      <td>香港上海匯豐銀行有限公司</td>\n",
       "      <td>HSBC WEALTH BUSINESS SERVICES 8/F TOWER 2 &amp; 3 ...</td>\n",
       "      <td>1,158,593,273</td>\n",
       "      <td>30.04%</td>\n",
       "    </tr>\n",
       "    <tr>\n",
       "      <th>1</th>\n",
       "      <td>C00100</td>\n",
       "      <td>JPMORGAN CHASE BANK, NATIONAL ASSOCIATION</td>\n",
       "      <td>18/F TOWER 2 THE QUAYSIDE 77 HOI BUN ROAD KWUN...</td>\n",
       "      <td>360,287,111</td>\n",
       "      <td>9.34%</td>\n",
       "    </tr>\n",
       "    <tr>\n",
       "      <th>2</th>\n",
       "      <td>C00010</td>\n",
       "      <td>花旗銀行</td>\n",
       "      <td>9/F CITI TOWER ONE BAY EAST 83 HOI BUN ROAD KW...</td>\n",
       "      <td>246,218,925</td>\n",
       "      <td>6.38%</td>\n",
       "    </tr>\n",
       "    <tr>\n",
       "      <th>3</th>\n",
       "      <td>C00039</td>\n",
       "      <td>渣打銀行(香港)有限公司</td>\n",
       "      <td>SECURITIES SERVICES 15/F STANDARD CHARTERED TO...</td>\n",
       "      <td>138,825,795</td>\n",
       "      <td>3.60%</td>\n",
       "    </tr>\n",
       "    <tr>\n",
       "      <th>4</th>\n",
       "      <td>C00033</td>\n",
       "      <td>中國銀行(香港)有限公司</td>\n",
       "      <td>11/F BANK OF CHINA CENTRE OLYMPIAN CITY 11 HOI...</td>\n",
       "      <td>72,355,334</td>\n",
       "      <td>1.87%</td>\n",
       "    </tr>\n",
       "    <tr>\n",
       "      <th>...</th>\n",
       "      <td>...</td>\n",
       "      <td>...</td>\n",
       "      <td>...</td>\n",
       "      <td>...</td>\n",
       "      <td>...</td>\n",
       "    </tr>\n",
       "    <tr>\n",
       "      <th>431</th>\n",
       "      <td>B02022</td>\n",
       "      <td>潮商證券有限公司</td>\n",
       "      <td>ROOM 2206-2210 CHINA RESOURCES BUILDING 26 HAR...</td>\n",
       "      <td>500</td>\n",
       "      <td>0.00%</td>\n",
       "    </tr>\n",
       "    <tr>\n",
       "      <th>432</th>\n",
       "      <td>B02060</td>\n",
       "      <td>力高證券有限公司</td>\n",
       "      <td>ROOM 301 3/F CHINA BUILDING 29 QUEEN'S ROAD CE...</td>\n",
       "      <td>500</td>\n",
       "      <td>0.00%</td>\n",
       "    </tr>\n",
       "    <tr>\n",
       "      <th>433</th>\n",
       "      <td>B02075</td>\n",
       "      <td>創陞證券有限公司</td>\n",
       "      <td>UNIT A-C 20/F NEICH TOWER 128 GLOUCESTER ROAD ...</td>\n",
       "      <td>500</td>\n",
       "      <td>0.00%</td>\n",
       "    </tr>\n",
       "    <tr>\n",
       "      <th>434</th>\n",
       "      <td>B01824</td>\n",
       "      <td>極訊亞太有限公司</td>\n",
       "      <td>31/F TWO INTERNATIONAL FINANCE CENTRE 8 FINANC...</td>\n",
       "      <td>400</td>\n",
       "      <td>0.00%</td>\n",
       "    </tr>\n",
       "    <tr>\n",
       "      <th>435</th>\n",
       "      <td>B01156</td>\n",
       "      <td>壹隆證券有限公司</td>\n",
       "      <td>45/F CHAMPION TOWER 3 GARDEN ROAD CENTRAL HONG...</td>\n",
       "      <td>2</td>\n",
       "      <td>0.00%</td>\n",
       "    </tr>\n",
       "  </tbody>\n",
       "</table>\n",
       "<p>436 rows × 5 columns</p>\n",
       "</div>"
      ],
      "text/plain": [
       "      參與者編號             中央結算系統參與者名稱\\n(*即願意披露的投資者戶口持有人)  \\\n",
       "0    C00019                               香港上海匯豐銀行有限公司   \n",
       "1    C00100  JPMORGAN CHASE BANK, NATIONAL ASSOCIATION   \n",
       "2    C00010                                       花旗銀行   \n",
       "3    C00039                               渣打銀行(香港)有限公司   \n",
       "4    C00033                               中國銀行(香港)有限公司   \n",
       "..      ...                                        ...   \n",
       "431  B02022                                   潮商證券有限公司   \n",
       "432  B02060                                   力高證券有限公司   \n",
       "433  B02075                                   創陞證券有限公司   \n",
       "434  B01824                                   極訊亞太有限公司   \n",
       "435  B01156                                   壹隆證券有限公司   \n",
       "\n",
       "                                                    地址            持股量  \\\n",
       "0    HSBC WEALTH BUSINESS SERVICES 8/F TOWER 2 & 3 ...  1,158,593,273   \n",
       "1    18/F TOWER 2 THE QUAYSIDE 77 HOI BUN ROAD KWUN...    360,287,111   \n",
       "2    9/F CITI TOWER ONE BAY EAST 83 HOI BUN ROAD KW...    246,218,925   \n",
       "3    SECURITIES SERVICES 15/F STANDARD CHARTERED TO...    138,825,795   \n",
       "4    11/F BANK OF CHINA CENTRE OLYMPIAN CITY 11 HOI...     72,355,334   \n",
       "..                                                 ...            ...   \n",
       "431  ROOM 2206-2210 CHINA RESOURCES BUILDING 26 HAR...            500   \n",
       "432  ROOM 301 3/F CHINA BUILDING 29 QUEEN'S ROAD CE...            500   \n",
       "433  UNIT A-C 20/F NEICH TOWER 128 GLOUCESTER ROAD ...            500   \n",
       "434  31/F TWO INTERNATIONAL FINANCE CENTRE 8 FINANC...            400   \n",
       "435  45/F CHAMPION TOWER 3 GARDEN ROAD CENTRAL HONG...              2   \n",
       "\n",
       "    佔已發行股份/權證/單位百分比  \n",
       "0            30.04%  \n",
       "1             9.34%  \n",
       "2             6.38%  \n",
       "3             3.60%  \n",
       "4             1.87%  \n",
       "..              ...  \n",
       "431           0.00%  \n",
       "432           0.00%  \n",
       "433           0.00%  \n",
       "434           0.00%  \n",
       "435           0.00%  \n",
       "\n",
       "[436 rows x 5 columns]"
      ]
     },
     "execution_count": 63,
     "metadata": {},
     "output_type": "execute_result"
    }
   ],
   "source": [
    "pd.DataFrame(data, columns=column_name)"
   ]
  },
  {
   "cell_type": "code",
   "execution_count": 60,
   "metadata": {},
   "outputs": [
    {
     "data": {
      "text/plain": [
       "[<selenium.webdriver.remote.webelement.WebElement (session=\"4cfeb1badc9383ad7f1ab61ed0348cc6\", element=\"adb0bc0a-558d-4485-b95d-f863fae113a7\")>,\n",
       " <selenium.webdriver.remote.webelement.WebElement (session=\"4cfeb1badc9383ad7f1ab61ed0348cc6\", element=\"ac053a73-55cb-44d8-9290-10b6a1ef086c\")>,\n",
       " <selenium.webdriver.remote.webelement.WebElement (session=\"4cfeb1badc9383ad7f1ab61ed0348cc6\", element=\"7257ccca-df36-48f7-910f-eb7380492b3d\")>,\n",
       " <selenium.webdriver.remote.webelement.WebElement (session=\"4cfeb1badc9383ad7f1ab61ed0348cc6\", element=\"efd356f3-03f2-438d-951f-2112df8f3a89\")>,\n",
       " <selenium.webdriver.remote.webelement.WebElement (session=\"4cfeb1badc9383ad7f1ab61ed0348cc6\", element=\"f39a192e-9fe5-4733-b6ec-591dcee2aca0\")>]"
      ]
     },
     "execution_count": 60,
     "metadata": {},
     "output_type": "execute_result"
    }
   ],
   "source": [
    "search_body.find_elements_by_tag_name('tr')[0].find_elements_by_class_name('mobile-list-body')"
   ]
  },
  {
   "cell_type": "code",
   "execution_count": null,
   "metadata": {
    "collapsed": true
   },
   "outputs": [],
   "source": []
  },
  {
   "cell_type": "code",
   "execution_count": 2,
   "metadata": {},
   "outputs": [
    {
     "ename": "ImportError",
     "evalue": "Pandas requires version '1.1.0' or newer of 'xlrd' (version '1.0.0' currently installed).",
     "output_type": "error",
     "traceback": [
      "\u001b[0;31m---------------------------------------------------------------------------\u001b[0m",
      "\u001b[0;31mImportError\u001b[0m                               Traceback (most recent call last)",
      "\u001b[0;32m<ipython-input-2-9eb23a46f318>\u001b[0m in \u001b[0;36m<module>\u001b[0;34m()\u001b[0m\n\u001b[1;32m      1\u001b[0m \u001b[0;32mimport\u001b[0m \u001b[0mpandas\u001b[0m \u001b[0;32mas\u001b[0m \u001b[0mpd\u001b[0m\u001b[0;34m\u001b[0m\u001b[0;34m\u001b[0m\u001b[0m\n\u001b[0;32m----> 2\u001b[0;31m \u001b[0mdf\u001b[0m \u001b[0;34m=\u001b[0m \u001b[0mpd\u001b[0m\u001b[0;34m.\u001b[0m\u001b[0mread_excel\u001b[0m\u001b[0;34m(\u001b[0m\u001b[0;34m'reference/ListOfSecurities.xlsx'\u001b[0m\u001b[0;34m)\u001b[0m\u001b[0;34m\u001b[0m\u001b[0;34m\u001b[0m\u001b[0m\n\u001b[0m",
      "\u001b[0;32m/Applications/anaconda/lib/python3.6/site-packages/pandas/io/excel/_base.py\u001b[0m in \u001b[0;36mread_excel\u001b[0;34m(io, sheet_name, header, names, index_col, usecols, squeeze, dtype, engine, converters, true_values, false_values, skiprows, nrows, na_values, keep_default_na, verbose, parse_dates, date_parser, thousands, comment, skipfooter, convert_float, mangle_dupe_cols, **kwds)\u001b[0m\n\u001b[1;32m    302\u001b[0m \u001b[0;34m\u001b[0m\u001b[0m\n\u001b[1;32m    303\u001b[0m     \u001b[0;32mif\u001b[0m \u001b[0;32mnot\u001b[0m \u001b[0misinstance\u001b[0m\u001b[0;34m(\u001b[0m\u001b[0mio\u001b[0m\u001b[0;34m,\u001b[0m \u001b[0mExcelFile\u001b[0m\u001b[0;34m)\u001b[0m\u001b[0;34m:\u001b[0m\u001b[0;34m\u001b[0m\u001b[0;34m\u001b[0m\u001b[0m\n\u001b[0;32m--> 304\u001b[0;31m         \u001b[0mio\u001b[0m \u001b[0;34m=\u001b[0m \u001b[0mExcelFile\u001b[0m\u001b[0;34m(\u001b[0m\u001b[0mio\u001b[0m\u001b[0;34m,\u001b[0m \u001b[0mengine\u001b[0m\u001b[0;34m=\u001b[0m\u001b[0mengine\u001b[0m\u001b[0;34m)\u001b[0m\u001b[0;34m\u001b[0m\u001b[0;34m\u001b[0m\u001b[0m\n\u001b[0m\u001b[1;32m    305\u001b[0m     \u001b[0;32melif\u001b[0m \u001b[0mengine\u001b[0m \u001b[0;32mand\u001b[0m \u001b[0mengine\u001b[0m \u001b[0;34m!=\u001b[0m \u001b[0mio\u001b[0m\u001b[0;34m.\u001b[0m\u001b[0mengine\u001b[0m\u001b[0;34m:\u001b[0m\u001b[0;34m\u001b[0m\u001b[0;34m\u001b[0m\u001b[0m\n\u001b[1;32m    306\u001b[0m         raise ValueError(\n",
      "\u001b[0;32m/Applications/anaconda/lib/python3.6/site-packages/pandas/io/excel/_base.py\u001b[0m in \u001b[0;36m__init__\u001b[0;34m(self, io, engine)\u001b[0m\n\u001b[1;32m    822\u001b[0m         \u001b[0mself\u001b[0m\u001b[0;34m.\u001b[0m\u001b[0m_io\u001b[0m \u001b[0;34m=\u001b[0m \u001b[0mstringify_path\u001b[0m\u001b[0;34m(\u001b[0m\u001b[0mio\u001b[0m\u001b[0;34m)\u001b[0m\u001b[0;34m\u001b[0m\u001b[0;34m\u001b[0m\u001b[0m\n\u001b[1;32m    823\u001b[0m \u001b[0;34m\u001b[0m\u001b[0m\n\u001b[0;32m--> 824\u001b[0;31m         \u001b[0mself\u001b[0m\u001b[0;34m.\u001b[0m\u001b[0m_reader\u001b[0m \u001b[0;34m=\u001b[0m \u001b[0mself\u001b[0m\u001b[0;34m.\u001b[0m\u001b[0m_engines\u001b[0m\u001b[0;34m[\u001b[0m\u001b[0mengine\u001b[0m\u001b[0;34m]\u001b[0m\u001b[0;34m(\u001b[0m\u001b[0mself\u001b[0m\u001b[0;34m.\u001b[0m\u001b[0m_io\u001b[0m\u001b[0;34m)\u001b[0m\u001b[0;34m\u001b[0m\u001b[0;34m\u001b[0m\u001b[0m\n\u001b[0m\u001b[1;32m    825\u001b[0m \u001b[0;34m\u001b[0m\u001b[0m\n\u001b[1;32m    826\u001b[0m     \u001b[0;32mdef\u001b[0m \u001b[0m__fspath__\u001b[0m\u001b[0;34m(\u001b[0m\u001b[0mself\u001b[0m\u001b[0;34m)\u001b[0m\u001b[0;34m:\u001b[0m\u001b[0;34m\u001b[0m\u001b[0;34m\u001b[0m\u001b[0m\n",
      "\u001b[0;32m/Applications/anaconda/lib/python3.6/site-packages/pandas/io/excel/_xlrd.py\u001b[0m in \u001b[0;36m__init__\u001b[0;34m(self, filepath_or_buffer)\u001b[0m\n\u001b[1;32m     18\u001b[0m         \"\"\"\n\u001b[1;32m     19\u001b[0m         \u001b[0merr_msg\u001b[0m \u001b[0;34m=\u001b[0m \u001b[0;34m\"Install xlrd >= 1.0.0 for Excel support\"\u001b[0m\u001b[0;34m\u001b[0m\u001b[0;34m\u001b[0m\u001b[0m\n\u001b[0;32m---> 20\u001b[0;31m         \u001b[0mimport_optional_dependency\u001b[0m\u001b[0;34m(\u001b[0m\u001b[0;34m\"xlrd\"\u001b[0m\u001b[0;34m,\u001b[0m \u001b[0mextra\u001b[0m\u001b[0;34m=\u001b[0m\u001b[0merr_msg\u001b[0m\u001b[0;34m)\u001b[0m\u001b[0;34m\u001b[0m\u001b[0;34m\u001b[0m\u001b[0m\n\u001b[0m\u001b[1;32m     21\u001b[0m         \u001b[0msuper\u001b[0m\u001b[0;34m(\u001b[0m\u001b[0;34m)\u001b[0m\u001b[0;34m.\u001b[0m\u001b[0m__init__\u001b[0m\u001b[0;34m(\u001b[0m\u001b[0mfilepath_or_buffer\u001b[0m\u001b[0;34m)\u001b[0m\u001b[0;34m\u001b[0m\u001b[0;34m\u001b[0m\u001b[0m\n\u001b[1;32m     22\u001b[0m \u001b[0;34m\u001b[0m\u001b[0m\n",
      "\u001b[0;32m/Applications/anaconda/lib/python3.6/site-packages/pandas/compat/_optional.py\u001b[0m in \u001b[0;36mimport_optional_dependency\u001b[0;34m(name, extra, raise_on_missing, on_version)\u001b[0m\n\u001b[1;32m    107\u001b[0m                 \u001b[0;32mreturn\u001b[0m \u001b[0;32mNone\u001b[0m\u001b[0;34m\u001b[0m\u001b[0;34m\u001b[0m\u001b[0m\n\u001b[1;32m    108\u001b[0m             \u001b[0;32melif\u001b[0m \u001b[0mon_version\u001b[0m \u001b[0;34m==\u001b[0m \u001b[0;34m\"raise\"\u001b[0m\u001b[0;34m:\u001b[0m\u001b[0;34m\u001b[0m\u001b[0;34m\u001b[0m\u001b[0m\n\u001b[0;32m--> 109\u001b[0;31m                 \u001b[0;32mraise\u001b[0m \u001b[0mImportError\u001b[0m\u001b[0;34m(\u001b[0m\u001b[0mmsg\u001b[0m\u001b[0;34m)\u001b[0m\u001b[0;34m\u001b[0m\u001b[0;34m\u001b[0m\u001b[0m\n\u001b[0m\u001b[1;32m    110\u001b[0m \u001b[0;34m\u001b[0m\u001b[0m\n\u001b[1;32m    111\u001b[0m     \u001b[0;32mreturn\u001b[0m \u001b[0mmodule\u001b[0m\u001b[0;34m\u001b[0m\u001b[0;34m\u001b[0m\u001b[0m\n",
      "\u001b[0;31mImportError\u001b[0m: Pandas requires version '1.1.0' or newer of 'xlrd' (version '1.0.0' currently installed)."
     ]
    }
   ],
   "source": [
    "import pandas as pd\n",
    "df = pd.read_excel('reference/ListOfSecurities.xlsx')"
   ]
  },
  {
   "cell_type": "code",
   "execution_count": 3,
   "metadata": {},
   "outputs": [
    {
     "data": {
      "text/plain": [
       "'1.0.3'"
      ]
     },
     "execution_count": 3,
     "metadata": {},
     "output_type": "execute_result"
    }
   ],
   "source": [
    "pip install "
   ]
  },
  {
   "cell_type": "code",
   "execution_count": null,
   "metadata": {
    "collapsed": true
   },
   "outputs": [],
   "source": []
  }
 ],
 "metadata": {
  "kernelspec": {
   "display_name": "Python 3",
   "language": "python",
   "name": "python3"
  },
  "language_info": {
   "codemirror_mode": {
    "name": "ipython",
    "version": 3
   },
   "file_extension": ".py",
   "mimetype": "text/x-python",
   "name": "python",
   "nbconvert_exporter": "python",
   "pygments_lexer": "ipython3",
   "version": "3.6.7"
  }
 },
 "nbformat": 4,
 "nbformat_minor": 4
}
